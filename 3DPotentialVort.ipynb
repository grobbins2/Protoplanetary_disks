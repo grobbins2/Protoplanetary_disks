{
 "cells": [
  {
   "cell_type": "code",
   "execution_count": null,
   "id": "adfed464-0d8a-4c7a-bf1f-afb2d134ce8d",
   "metadata": {},
   "outputs": [],
   "source": []
  },
  {
   "cell_type": "code",
   "execution_count": null,
   "id": "f7193f60-29ff-4975-af8b-8a5b2402df63",
   "metadata": {},
   "outputs": [
    {
     "name": "stdout",
     "output_type": "stream",
     "text": [
      "800\n"
     ]
    }
   ],
   "source": [
    "import readfargo3d as fg\n",
    "import numpy as pl\n",
    "import numpy as np\n",
    "import matplotlib.pyplot as plt\n",
    "\n",
    "path = './p3disof_test/'\n",
    "#path = './bae2017_03jup1400x512/'\n",
    "\n",
    "itime = 80\n",
    "r0 = 1.0\n",
    "fargo3d    = fg.frame(itime,rho=True,vphi=True,vr=True,vtheta=True,dir=path)\n",
    "fargo3d_init    = fg.frame(0,rho=True,vphi=True,vr=True,vtheta=True,dir=path)\n",
    "#fargo_2d = fg.frame(nstart,rho=True,vphi=True,vr=True,vtheta=False,dir=path2)\n",
    "#fargo_2dinit    = fg.frame(0,rho=True,vphi=True,vr=True,vtheta=False,dir=path2)\n",
    "\n",
    "\n",
    "\n",
    "phi = fargo3d.phi\n",
    "rad  = fargo3d.r\n",
    "theta = fargo3d.theta\n",
    "\n",
    "#phi   = 0.5*(phi[:-1] + phi[1:])                                                                                                                   \\     $\n",
    "#rad   = 0.5*(rad[:-1] + rad[1:])\n",
    "\n",
    "rad3d, phi3d, theta3d = (np.meshgrid(rad, phi, theta))\n",
    "\n",
    "nx = len(phi)\n",
    "ny = len(rad)\n",
    "nz = len(theta)\n",
    "print(itime*10)\n",
    "#-------------------------3d sum------------------\n",
    "#rho_init   = fargo3d_init.rho.sum(axis=2)\n",
    "#rho   = fargo3d.rho.sum(axis=2)\n",
    "#vphi_init   = fargo3d_init.vphi.sum(axis=2)\n",
    "#vphi   = fargo3d.vphi.sum(axis=2)\n",
    "#vrad     = fargo3d.vr.sum(axis=2)\n",
    "#vrad_init = fargo3d_init.vr.sum(axis=2)\n",
    "#vtheta = fargo3d.vtheta.sum(axis=2)\n",
    "#vtheta_init = fargo3d_init.vtheta.sum(axis=2)\n",
    "#-------------------------3d slice------------------\n",
    "rho_init   = fargo3d_init.rho[:,:,:]\n",
    "rho   = fargo3d.rho[:,:,:]\n",
    "vphi_init   = fargo3d_init.vphi[:,:,:]\n",
    "vphi   = fargo3d.vphi[:,:,:]\n",
    "vrad     = fargo3d.vr[:,:,:]\n",
    "vrad_init = fargo3d_init.vr[:,:,:]\n",
    "vtheta = fargo3d.vtheta[:,:,:]\n",
    "vtheta_init = fargo3d_init.vtheta[:,:,:] #all have shape (1399,511,65)\n",
    "omegap = np.loadtxt(path+'planet0.dat')[itime][-1]\n",
    "vphi += omegap*rad3d\n",
    "\n",
    "omegapinit = np.loadtxt(path+'planet0.dat')[0][-1]\n",
    "vphi_init += omegapinit*rad3d\n",
    "vmin = -.5\n",
    "vmax = 1.5\n",
    "levels = np.linspace(vmin,vmax,128)\n",
    "\n",
    "dphi = np.abs(phi3d[1:,1:,1:]-phi3d[:-1,:-1,:-1]) \n",
    "drad = np.abs(rad3d[1:,1:,1:]-rad3d[:-1,:-1,:-1]) #shape 1399, 511, 65\n",
    "dtheta = np.abs(theta3d[1:,1:,1:]-theta3d[:-1,:-1,:-1])#\n",
    "dvphi = vphi[1:,1:,1:]-vphi[:-1,:-1,:-1]\n",
    "dvtheta = vtheta[1:,1:,1:]-vtheta[:-1,:-1,:-1]\n",
    "dvrad = vrad[1:,1:,1:]-vrad[:-1,:-1,:-1]\n",
    "\n",
    "pv_rad = (1/(rad3d*np.sin(phi3d))[1:,1:,1:])*(((vtheta*np.sin(phi3d))[1:,1:,1:]-(vtheta*np.sin(phi3d))[:-1,:-1,:-1])/dphi - (dvphi/dtheta))\n",
    "pv_phi = (1/(rad3d)[1:,1:,1:])*((dvrad)/(dtheta*np.sin(phi3d)[1:,1:,1:]) - (((rad3d*vtheta)[1:,1:,1:]-(rad3d*vtheta)[:-1,:-1,:-1])/drad))\n",
    "pv_theta = (1/rad3d)[1:,1:,1:]*(((rad3d*vphi)[1:,1:,1:]-(rad3d*vphi)[:-1,:-1,:-1])/(drad) - (dvrad/dphi))\n",
    "#------------------------------initial conditions--------------------------------------\n",
    "dvphi_init = vphi_init[1:,1:,1:]-vphi_init[:-1,:-1,:-1]\n",
    "dvtheta_init = vtheta_init[1:,1:,1:]-vtheta_init[:-1,:-1,:-1]\n",
    "dvrad_init = vrad_init[1:,1:,1:]-vrad_init[:-1,:-1,:-1]\n",
    "\n",
    "pv_rad_init = (1/(rad3d*np.sin(phi3d))[1:,1:,1:])*(((vtheta_init*np.sin(phi3d))[1:,1:,1:]-(vtheta_init*np.sin(phi3d))[:-1,:-1,:-1])/dphi - (dvphi_init/dtheta))\n",
    "pv_phi_init = (1/(rad3d)[1:,1:,1:])*((dvrad_init)/(dtheta*np.sin(phi3d)[1:,1:,1:]) - (((rad3d*vtheta_init)[1:,1:,1:]-(rad3d*vtheta_init)[:-1,:-1,:-1])/drad))\n",
    "pv_theta_init = (1/rad3d)[1:,1:,1:]*(((rad3d*vphi_init)[1:,1:,1:]-(rad3d*vphi_init)[:-1,:-1,:-1])/(drad) - (dvrad_init/dphi))\n",
    "\n",
    "#-------------------------------------------\n",
    "fig, ax = plt.subplots(figsize=(8,8))\n",
    "ax.contourf(fargo3d.r[1:], fargo3d.phi[1:]*180/np.pi, ((pv_theta[:,:,:]-pv_theta_init[:,:,:])/pv_theta_init[:,:,:]).mean(axis=2), levels=levels)\n",
    "ax.set_xlim(0.2,2)\n",
    "#ax.set_ylim(160,170)\n",
    "ax.set_xlabel('r [au]')\n",
    "ax.set_ylabel('phi [degrees]')\n",
    "ax.set_title(f'time ='+ str(itime*10) +' orbits, 3d')\n",
    "#plt.savefig('PV_3dimage3mslice.png',dpi = 300)\n",
    "print('done')"
   ]
  },
  {
   "cell_type": "code",
   "execution_count": 1,
   "id": "f91aceb5-c721-46de-adde-b70fbabe65f6",
   "metadata": {},
   "outputs": [
    {
     "ename": "NameError",
     "evalue": "name 'plt' is not defined",
     "output_type": "error",
     "traceback": [
      "\u001b[0;31m---------------------------------------------------------------------------\u001b[0m",
      "\u001b[0;31mNameError\u001b[0m                                 Traceback (most recent call last)",
      "\u001b[0;32m/scratch/local/59244586/ipykernel_121136/2732539894.py\u001b[0m in \u001b[0;36m<module>\u001b[0;34m\u001b[0m\n\u001b[0;32m----> 1\u001b[0;31m \u001b[0mfig\u001b[0m\u001b[0;34m,\u001b[0m \u001b[0max\u001b[0m \u001b[0;34m=\u001b[0m \u001b[0mplt\u001b[0m\u001b[0;34m.\u001b[0m\u001b[0msubplots\u001b[0m\u001b[0;34m(\u001b[0m\u001b[0mfigsize\u001b[0m\u001b[0;34m=\u001b[0m\u001b[0;34m(\u001b[0m\u001b[0;36m8\u001b[0m\u001b[0;34m,\u001b[0m\u001b[0;36m8\u001b[0m\u001b[0;34m)\u001b[0m\u001b[0;34m)\u001b[0m\u001b[0;34m\u001b[0m\u001b[0;34m\u001b[0m\u001b[0m\n\u001b[0m\u001b[1;32m      2\u001b[0m \u001b[0max\u001b[0m\u001b[0;34m.\u001b[0m\u001b[0mcontourf\u001b[0m\u001b[0;34m(\u001b[0m\u001b[0mfargo3d\u001b[0m\u001b[0;34m.\u001b[0m\u001b[0mr\u001b[0m\u001b[0;34m[\u001b[0m\u001b[0;36m1\u001b[0m\u001b[0;34m:\u001b[0m\u001b[0;34m]\u001b[0m\u001b[0;34m,\u001b[0m \u001b[0mfargo3d\u001b[0m\u001b[0;34m.\u001b[0m\u001b[0mphi\u001b[0m\u001b[0;34m[\u001b[0m\u001b[0;36m1\u001b[0m\u001b[0;34m:\u001b[0m\u001b[0;34m]\u001b[0m\u001b[0;34m*\u001b[0m\u001b[0;36m180\u001b[0m\u001b[0;34m/\u001b[0m\u001b[0mnp\u001b[0m\u001b[0;34m.\u001b[0m\u001b[0mpi\u001b[0m\u001b[0;34m,\u001b[0m \u001b[0;34m(\u001b[0m\u001b[0;34m(\u001b[0m\u001b[0mpv_theta\u001b[0m\u001b[0;34m[\u001b[0m\u001b[0;34m:\u001b[0m\u001b[0;34m,\u001b[0m\u001b[0;34m:\u001b[0m\u001b[0;34m,\u001b[0m\u001b[0;34m:\u001b[0m\u001b[0;34m]\u001b[0m\u001b[0;34m-\u001b[0m\u001b[0mpv_theta_init\u001b[0m\u001b[0;34m[\u001b[0m\u001b[0;34m:\u001b[0m\u001b[0;34m,\u001b[0m\u001b[0;34m:\u001b[0m\u001b[0;34m,\u001b[0m\u001b[0;34m:\u001b[0m\u001b[0;34m]\u001b[0m\u001b[0;34m)\u001b[0m\u001b[0;34m/\u001b[0m\u001b[0mpv_theta_init\u001b[0m\u001b[0;34m[\u001b[0m\u001b[0;34m:\u001b[0m\u001b[0;34m,\u001b[0m\u001b[0;34m:\u001b[0m\u001b[0;34m,\u001b[0m\u001b[0;34m:\u001b[0m\u001b[0;34m]\u001b[0m\u001b[0;34m)\u001b[0m\u001b[0;34m.\u001b[0m\u001b[0mmean\u001b[0m\u001b[0;34m(\u001b[0m\u001b[0maxis\u001b[0m\u001b[0;34m=\u001b[0m\u001b[0;36m2\u001b[0m\u001b[0;34m)\u001b[0m\u001b[0;34m,\u001b[0m \u001b[0mlevels\u001b[0m\u001b[0;34m=\u001b[0m\u001b[0mlevels\u001b[0m\u001b[0;34m)\u001b[0m\u001b[0;34m\u001b[0m\u001b[0;34m\u001b[0m\u001b[0m\n\u001b[1;32m      3\u001b[0m \u001b[0max\u001b[0m\u001b[0;34m.\u001b[0m\u001b[0mset_xlim\u001b[0m\u001b[0;34m(\u001b[0m\u001b[0;36m0.2\u001b[0m\u001b[0;34m,\u001b[0m\u001b[0;36m2\u001b[0m\u001b[0;34m)\u001b[0m\u001b[0;34m\u001b[0m\u001b[0;34m\u001b[0m\u001b[0m\n\u001b[1;32m      4\u001b[0m \u001b[0;31m#ax.set_ylim(160,170)\u001b[0m\u001b[0;34m\u001b[0m\u001b[0;34m\u001b[0m\u001b[0;34m\u001b[0m\u001b[0m\n\u001b[1;32m      5\u001b[0m \u001b[0max\u001b[0m\u001b[0;34m.\u001b[0m\u001b[0mset_xlabel\u001b[0m\u001b[0;34m(\u001b[0m\u001b[0;34m'r [au]'\u001b[0m\u001b[0;34m)\u001b[0m\u001b[0;34m\u001b[0m\u001b[0;34m\u001b[0m\u001b[0m\n",
      "\u001b[0;31mNameError\u001b[0m: name 'plt' is not defined"
     ]
    }
   ],
   "source": [
    "fig, ax = plt.subplots(figsize=(8,8))\n",
    "ax.contourf(fargo3d.r[1:], fargo3d.phi[1:]*180/np.pi, ((pv_theta[:,:,:]-pv_theta_init[:,:,:])/pv_theta_init[:,:,:]).mean(axis=2), levels=levels)\n",
    "ax.set_xlim(0.2,2)\n",
    "#ax.set_ylim(160,170)\n",
    "ax.set_xlabel('r [au]')\n",
    "ax.set_ylabel('phi [degrees]')\n",
    "ax.set_title(f'time ='+ str(itime*10) +' orbits, 3d')\n",
    "#plt.savefig('PV_3dimage3mslice.png',dpi = 300)\n",
    "print('done')"
   ]
  },
  {
   "cell_type": "code",
   "execution_count": 6,
   "id": "276b8056-3d79-4488-8839-35b2e05fe2ff",
   "metadata": {},
   "outputs": [
    {
     "data": {
      "text/plain": [
       "[<matplotlib.lines.Line2D at 0x2b18de455580>]"
      ]
     },
     "execution_count": 6,
     "metadata": {},
     "output_type": "execute_result"
    },
    {
     "data": {
      "image/png": "[encoded data removed]",
      "text/plain": [
       "<Figure size 432x288 with 1 Axes>"
      ]
     },
     "metadata": {
      "needs_background": "light"
     },
     "output_type": "display_data"
    }
   ],
   "source": [
    "plt.plot(fargo3d.r[1:],(((pv_theta[:,:,:]-pv_theta_init[:,:,:])/pv_theta_init[:,:,:]).mean(axis=2).mean(axis=0)), label = '3d_disk')\n",
    "#plt.ylim(-.5,1.5)\n",
    "#plt.xlim(.5,2)"
   ]
  },
  {
   "cell_type": "code",
   "execution_count": null,
   "id": "76b74455-4a4f-41f6-9800-2216db0ead20",
   "metadata": {},
   "outputs": [],
   "source": [
    "#3D Potential Vorticity using \"HORSESHOE DRAG IN THREE-DIMENSIONAL GLOBALLY ISOTHERMAL DISKS\" Paper\n",
    "import readfargo3d as fg\n",
    "import numpy as pl\n",
    "import numpy as np\n",
    "import matplotlib.pyplot as plt\n",
    "\n",
    "path = './p3disof_test/'\n",
    "#path = './bae2017_03jup1400x512/'\n",
    "\n",
    "nstart = 80\n",
    "itime = nstart\n",
    "r0 = 1.0\n",
    "fargo3d    = fg.frame(nstart,rho=True,vphi=True,vr=True,vtheta=True,dir=path)\n",
    "fargo3d_init    = fg.frame(0,rho=True,vphi=True,vr=True,vtheta=True,dir=path)\n",
    "#fargo_2d = fg.frame(nstart,rho=True,vphi=True,vr=True,vtheta=False,dir=path2)\n",
    "#fargo_2dinit    = fg.frame(0,rho=True,vphi=True,vr=True,vtheta=False,dir=path2)\n",
    "\n",
    "\n",
    "\n",
    "phi = np.loadtxt(path +'domain_x.dat')\n",
    "rad1  = np.loadtxt(path +'domain_y.dat')[3:-3]\n",
    "\n",
    "phi   = 0.5*(phi[:-1] + phi[1:]) #what does this mean?                                                                                                                  \\     $\n",
    "\n",
    "rad1   = 0.5*(rad1[:-1] + rad1[1:])\n",
    "\n",
    "rad2d, phi2d = np.meshgrid(rad1, phi) #explain meshgrid?                                                                                                                 \\     $\n",
    "\n",
    "\n",
    "X = rad2d*np.cos(phi2d)\n",
    "Y = rad2d*np.sin(phi2d)\n",
    "\n",
    "nx = len(phi)\n",
    "ny = len(rad1)\n",
    "nz = len(fargo3d.theta)\n",
    "nf = nstart\n",
    "print(nf*10)\n",
    "#-------------------------3d sum------------------\n",
    "#rho_init   = fargo3d_init.rho.sum(axis=2)\n",
    "#rho   = fargo3d.rho.sum(axis=2)\n",
    "#vphi_init   = fargo3d_init.vphi.sum(axis=2)\n",
    "#vphi   = fargo3d.vphi.sum(axis=2)\n",
    "#vrad     = fargo3d.vr.sum(axis=2)\n",
    "#vrad_init = fargo3d_init.vr.sum(axis=2)\n",
    "#vtheta = fargo3d.vtheta.sum(axis=2)\n",
    "#vtheta_init = fargo3d_init.vtheta.sum(axis=2)\n",
    "#-------------------------3d slice------------------\n",
    "rho_init   = fargo3d_init.rho[:,:,:]\n",
    "rho   = fargo3d.rho[:,:,:]\n",
    "vphi_init   = fargo3d_init.vphi[:,:,:]\n",
    "vphi   = fargo3d.vphi[:,:,:]\n",
    "vrad     = fargo3d.vr[:,:,:]\n",
    "vrad_init = fargo3d_init.vr[:,:,:]\n",
    "vtheta = fargo3d.vtheta[:,:,:]\n",
    "vtheta_init = fargo3d_init.vtheta[:,:,:]\n",
    "omegap = np.loadtxt(path+'planet0.dat')[itime][-1]\n",
    "vphi += omegap*rad2d\n",
    "\n",
    "omegapinit = np.loadtxt(path+'planet0.dat')[0][-1]\n",
    "vphi_init += omegapinit*rad2d\n",
    "vmin = -1\n",
    "vmax = 5\n",
    "levels = np.linspace(vmin,vmax,128)\n",
    "\n",
    "\n",
    "dphi = np.abs(fargo3d.phi[0]-fargo3d.phi[1])\n",
    "drad = np.abs(rad2d[0,1:]-rad2d[0,:-1])\n",
    "\n"
   ]
  }
 ],
 "metadata": {
  "kernelspec": {
   "display_name": "Python 3 (ipykernel)",
   "language": "python",
   "name": "python3"
  },
  "language_info": {
   "codemirror_mode": {
    "name": "ipython",
    "version": 3
   },
   "file_extension": ".py",
   "mimetype": "text/x-python",
   "name": "python",
   "nbconvert_exporter": "python",
   "pygments_lexer": "ipython3",
   "version": "3.8.1"
  }
 },
 "nbformat": 4,
 "nbformat_minor": 5
}
